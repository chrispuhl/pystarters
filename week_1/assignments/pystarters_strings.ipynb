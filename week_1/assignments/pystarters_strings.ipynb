{
 "cells": [
  {
   "cell_type": "markdown",
   "metadata": {},
   "source": [
    "# python as a calculator\n",
    "FOR A FULL LIST OF MATHEMATICAL OPERATIONS IN PYTHON SEE: \n",
    "https://www.tutorialspoint.com/python/python_basic_operators.htm \n",
    "This will be useful later, so only skip it if you know it already"
   ]
  },
  {
   "cell_type": "code",
   "execution_count": 24,
   "metadata": {
    "collapsed": false
   },
   "outputs": [],
   "source": [
    "# QUESTION 1\n",
    "# python can be used like a sort of overkill calculator\n",
    "\n",
    "# a) for these numbers 3, 56, 6, 3, 44, 5, 6, 7775, 32353, 34534, 345:\n",
    "    # find the largest number\n",
    "    # find the smallest number\n",
    "    # find the sum of all the numbers\n",
    "    # use the statistics module to compute:\n",
    "        # the mean\n",
    "        # the median\n",
    "        # the variance\n",
    "        # and standard deviation\n",
    "\n",
    "# b) use the math module to do the following:\n",
    "    # print:\n",
    "        # the value of pi rounded down to the nearest whole number\n",
    "        # the value of pi rounded up to nearest whole number\n",
    "        # the square root of pi\n",
    "        # the log of pi\n",
    "\n",
    "import math\n",
    "pi = math.pi\n",
    "        \n",
    "# c) calculate pi squared divided by pi cubed\n",
    "# d) generate some random numbers\n",
    "# e) what is sine(pi/2), sine(pi/4), sine(pi/8)\n",
    "# f) if the result is in radians, convert it to degrees\n",
    "# g) cast your result from a float into a string"
   ]
  },
  {
   "cell_type": "markdown",
   "metadata": {},
   "source": [
    "# variable assignment"
   ]
  },
  {
   "cell_type": "code",
   "execution_count": null,
   "metadata": {
    "collapsed": true
   },
   "outputs": [],
   "source": [
    "# QUESTION 2\n",
    "# a) assign the number 3 to a variable called width, and the number 110 to a variable called height\n",
    "# b) calculate the area and assign it to a new variable called area\n",
    "# c) turns out you got the width and height mixed up, see if you can swap them without re-declaring the width and height variables\n",
    "# d) assign the width and height variables in a single statement"
   ]
  },
  {
   "cell_type": "markdown",
   "metadata": {},
   "source": [
    "# control flow - using statements"
   ]
  },
  {
   "cell_type": "code",
   "execution_count": null,
   "metadata": {
    "collapsed": true
   },
   "outputs": [],
   "source": [
    "# QUESTION 3\n",
    "# a) write a simple for loop that counts up to 10 and prints the value\n",
    "# b) use an if statement to print 4 if the value is 4\n",
    "# c) add an else clause to print 'the number is not 4' when it is not 4\n",
    "# d) use an if statement to print if the value is anything other than 4\n",
    "# e) rewrite this using a while loop (HINT: try out using the += operation)"
   ]
  },
  {
   "cell_type": "markdown",
   "metadata": {
    "collapsed": true
   },
   "source": [
    "# string manipulation\n",
    "IMPORTANT: if you are uncertain what is meant by built-in method, have a look here (https://docs.python.org/3/library/stdtypes.html) at the different functionality that is built-in to each data type\n"
   ]
  },
  {
   "cell_type": "code",
   "execution_count": 40,
   "metadata": {
    "collapsed": false
   },
   "outputs": [
    {
     "data": {
      "text/plain": [
       "'the value of pi is: {}, {}, {}'"
      ]
     },
     "execution_count": 40,
     "metadata": {},
     "output_type": "execute_result"
    }
   ],
   "source": [
    "#QUESTION 4\n",
    "secret_message = 'S1R3E2!!3@4T2R3AT23@@!S2Y3pbO1T3!@@!!4b1E@M134O13C1L3@@Ew41@23!!'\n",
    "\n",
    "# a) remove all digits and special characters from the secret message\n",
    "# b) replace all every letter b with an empty space \n",
    "# c) if you wrote your answer as a loop, try with a list comprehension\n",
    "# d) reverse the capitalisation\n",
    "# e) reverse the order of the letters\n",
    "# f) use built in string methods to do the following\n",
    "\n",
    "s1 = '              please remove the space around me           '\n",
    "s2 = '               please remove the space on my right           '\n",
    "s3 = 'please add the same number of spaces on my left as on my right             '\n",
    "\n",
    "# g) combine strings s1 and s2\n",
    "    # do it with and without using built-in string methods\n",
    "    \n",
    "# h) for a and b (below), compute the following:\n",
    "    # a + b\n",
    "    # a * b\n",
    "    \n",
    "a = '3.1' \n",
    "b = '22.323'    \n",
    "\n",
    "# i) if your result is just one long string, try to cast a and b into integers and try again\n",
    "\n",
    "# j) replace the {}s below with the value of pi using string methods, for 0, 2 and 5 decimal places respectively\n",
    "\n",
    "'the value of pi is: {}, {}, {}'\n",
    "\n",
    "# k) print the following string: '23\\42\\34\\23\\\\\\//'\n",
    "    # think about what is going on, google it and see why it doesn't work as expected"
   ]
  },
  {
   "cell_type": "markdown",
   "metadata": {},
   "source": [
    "# working with text files "
   ]
  },
  {
   "cell_type": "code",
   "execution_count": 1,
   "metadata": {
    "collapsed": true
   },
   "outputs": [],
   "source": [
    "# QUESTION 5\n",
    "# a) load the example dataset '/resources/strings_example_1.txt'\n",
    "# b) change the vowels back to normal characters\n",
    "# c) locate the hidden substring (HINT: the it starts and ends with __)\n",
    "# d) remove this substring and save the modified text in a new variable. Show that this is no longer the same as the original\n",
    "# e) find the counts of each letter in the text such that:\n",
    "    # 'aaAabb dddDD hhcc' >>> [('d',5), ('a',4), ('b',2), ('c',2), ('h', 2)]\n",
    "# f) make a separate list for alphabetical, numeric and special characters\n",
    "    # HINT: you may want to use sets to solve this\n"
   ]
  },
  {
   "cell_type": "code",
   "execution_count": null,
   "metadata": {
    "collapsed": true
   },
   "outputs": [],
   "source": [
    "# QUESTION 6\n",
    "# a) load the dataset '/resources/strings_example_2.txt'\n",
    "# b) clean the text and create a flat list containing every word\n",
    "# c) produce a dictionary containing each word as a key and that word's count as the value\n",
    "# d) find the average length of the unique words in the text\n",
    "# e) find the weighted average word lengths\n"
   ]
  },
  {
   "cell_type": "code",
   "execution_count": 2,
   "metadata": {
    "collapsed": true
   },
   "outputs": [
    {
     "name": "stdout",
     "output_type": "stream",
     "text": [
      "please enter your first name:StepjohHn\n",
      "please enter your surname:Lenind\n"
     ]
    }
   ],
   "source": [
    "# QUESTION 7\n",
    "# modify this code to ensure that email addresses follow the following rules:\n",
    "    # a) all lower case\n",
    "    # b) takes the first letter of the first name and combines with with the whole last name\n",
    "    # c) it removes any extra spaces/unwanted characters\n",
    "    # d) it creates multiple email addresses for all the groups in groups_that_need_emails\n",
    "\n",
    "first_name = input('please enter your first name:')\n",
    "surname = input('please enter your surname:')\n",
    "email = first_name + '.' + surname + '@pystarters.co.uk'\n",
    "\n",
    "print(email)\n",
    "\n",
    "groups_that_need_emails =  ('pystarters', 'pyclub', 'UCL', 'SWC', 'gatsby')\n",
    "\n"
   ]
  },
  {
   "cell_type": "markdown",
   "metadata": {},
   "source": [
    "# applied question, sorting file names, saving/moving files"
   ]
  },
  {
   "cell_type": "code",
   "execution_count": 1,
   "metadata": {
    "collapsed": true
   },
   "outputs": [],
   "source": [
    "# QUESTION 8\n",
    "# you have a folder of serial two photon microscope images ('/resources/tissue_vision_files/') containing many (empty) .tif images \n",
    "# the image filenames are of the format mmddyyyy-hhmm-image_index-channel_number.tif\n",
    "# a) generate a list of all the file names\n",
    "# b) sort the lists in a human readable way \n",
    "    # HINT: the file names are not zero-padded, which messes up the sorting\n",
    "# c) separate images 100-200 into three separate lists, one for each channel\n",
    "    # insert 'modified' into all file names: e.g. '02162018-1620-0_01_modified.tif'\n",
    "    # do not include any files that end with .txt\n",
    "# d) save these files to separate folders\n",
    "\n",
    "# what do you think is wrong with these file names? what would you do to make them nicer?\n"
   ]
  },
  {
   "cell_type": "code",
   "execution_count": null,
   "metadata": {
    "collapsed": true
   },
   "outputs": [],
   "source": [
    "# BONUS QUESTION (but can be extremely useful for parsing non-standardised messy strings)\n",
    "# Read about regular expressions here: https://developers.google.com/edu/python/regular-expressions\n",
    "# do the baby names exercise on there\n"
   ]
  }
 ],
 "metadata": {
  "kernelspec": {
   "display_name": "Python 3",
   "language": "python",
   "name": "python3"
  },
  "language_info": {
   "codemirror_mode": {
    "name": "ipython",
    "version": 3
   },
   "file_extension": ".py",
   "mimetype": "text/x-python",
   "name": "python",
   "nbconvert_exporter": "python",
   "pygments_lexer": "ipython3",
   "version": "3.5.3"
  }
 },
 "nbformat": 4,
 "nbformat_minor": 2
}
